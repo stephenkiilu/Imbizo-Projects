{
  "nbformat": 4,
  "nbformat_minor": 0,
  "metadata": {
    "colab": {
      "provenance": []
    },
    "kernelspec": {
      "name": "python3",
      "display_name": "Python 3"
    },
    "language_info": {
      "name": "python"
    }
  },
  "cells": [
    {
      "cell_type": "markdown",
      "source": [
        "# **Decoding hand shapes from fMRI data using different ML Models**\n",
        "\n",
        "Decoding hand shapes from fMRI data\n",
        "\n",
        "This project involves implemention of classification models to classify different motor actions from fMRI data\n",
        "\n",
        "In this implementation, we have trained the decoding model and tested it.\n",
        "\n",
        "We have also tested different machine learning architectures -- logistic regression, Support vector machines, Random Forests and K-nearest neighbor.\n",
        "\n",
        "Tasks done:\n",
        "1. Loaded data using bdpy\n",
        "\n",
        "2. Explored the metadata (different regions in the brain)\n",
        "\n",
        "3. Built classification models (logistic regression, SVM, KNN and RF)\n",
        "\n",
        "4. Tried cross-validation technique\n",
        "\n",
        "\n",
        "\n",
        "## Description of the task\n",
        "\n",
        "Can you decode the motor movement from brain activation data?\n",
        "In this project, you will be implementing the classification models to classify different motor actions from fMRI data. You will need to expand on the model to accommodate for classifying between more than two classes.\n",
        "There is data available  [here](https://figshare.com/articles/dataset/Hand_shape_decoding_rock_paper_scissors_/6698780) . In this implementation, you will learn how to properly train the decoding model and test it statistically. You can also test different machine learning architectures.\n",
        "\n",
        "\n",
        "\n"
      ],
      "metadata": {
        "id": "jJ3LIjfzp0X7"
      }
    },
    {
      "cell_type": "code",
      "source": [
        "#Loading data and installing libraries\n",
        "!wget -O data.h5 https://figshare.com/ndownloader/files/12227786\n",
        "\n",
        "!pip install bdpy\n",
        "!pip install seaborn_image"
      ],
      "metadata": {
        "id": "Psex_uErp49D"
      },
      "execution_count": null,
      "outputs": []
    },
    {
      "cell_type": "code",
      "source": [
        "#Importing required libraries\n",
        "import bdpy\n",
        "from bdpy.util import get_refdata\n",
        "import numpy as np\n",
        "import pandas as pd\n",
        "import seaborn_image as isns\n",
        "import seaborn as sns\n",
        "import ipywidgets as widgets  # interactive display\n",
        "import matplotlib.pyplot as plt\n",
        "from random import seed\n",
        "from sklearn.linear_model import LogisticRegression, LinearRegression, Lasso, Ridge\n",
        "from sklearn.model_selection import train_test_split, cross_val_score\n",
        "import urllib\n",
        "from PIL import Image\n",
        "from torchvision import transforms\n",
        "import torch\n"
      ],
      "metadata": {
        "id": "8G4pGfUwrPzS"
      },
      "execution_count": null,
      "outputs": []
    },
    {
      "cell_type": "code",
      "source": [
        "#Creating dictionary of Regions of Interest\n",
        "rois = {'SMAR' : 'VOX_SMA_RHand = 1',\n",
        "        'SMAL' : 'VOX_SMA_LHand = 1',\n",
        "        'M1R' : ' VOX_M1_RHand = 1',\n",
        "        'M1L' : 'VOX_M1_LHand = 1',\n",
        "        'CBR' : 'VOX_CB_RHand = 1',\n",
        "        'CBL' : 'VOX_CB_LHand = 1'}\n",
        "\n",
        "#Function to set different seeds for different workers to get random sequences\n",
        "def seed_worker(worker_id):\n",
        "    worker_seed = torch.initial_seed() % 2**32 #This line calculates a worker-specific seed using the initial seed of PyTorch's random number generator\n",
        "    np.random.seed(worker_id) #This line sets the random seed for NumPy's random number generator\n",
        "    seed(worker_id) #his line sets the random seed for Python's built-in random module to the worker_id"
      ],
      "metadata": {
        "id": "UuxdKI5zv76q"
      },
      "execution_count": null,
      "outputs": []
    },
    {
      "cell_type": "code",
      "source": [
        "# Getting data of images from the dataset\n",
        "filename = 'data.h5'\n",
        "voxel_data = bdpy.BData(filename)\n",
        "voxel_data.show_metadata()"
      ],
      "metadata": {
        "id": "TnP0RdVguOZx"
      },
      "execution_count": null,
      "outputs": []
    },
    {
      "cell_type": "code",
      "source": [
        "#Returning categories\n",
        "np.unique(voxel_data.get('Label'))"
      ],
      "metadata": {
        "colab": {
          "base_uri": "https://localhost:8080/"
        },
        "id": "3UpntR4bvRNC",
        "outputId": "ded56474-e4f0-4179-bc18-bb625966f7c1"
      },
      "execution_count": null,
      "outputs": [
        {
          "output_type": "execute_result",
          "data": {
            "text/plain": [
              "array([2., 3., 4.])"
            ]
          },
          "metadata": {},
          "execution_count": 6
        }
      ]
    },
    {
      "cell_type": "code",
      "source": [
        "voxel_data.get('Label')"
      ],
      "metadata": {
        "id": "3Auhk37yM9pa"
      },
      "execution_count": null,
      "outputs": []
    },
    {
      "cell_type": "code",
      "source": [
        "data_labels = voxel_data.select('Label')"
      ],
      "metadata": {
        "id": "6j9aJc65vhbW"
      },
      "execution_count": null,
      "outputs": []
    },
    {
      "cell_type": "code",
      "source": [
        "def extract_data(roi, number_of_categories=3):\n",
        "    filename = 'data.h5'\n",
        "    data = bdpy.BData(filename)\n",
        "    voxel_data = data.select(rois[roi])\n",
        "    data_labels = data.select('Label')\n",
        "    data_labels = np.floor(data_labels).astype(int)\n",
        "    return voxel_data, data_labels"
      ],
      "metadata": {
        "id": "8pzF0STCrknd"
      },
      "execution_count": null,
      "outputs": []
    },
    {
      "cell_type": "code",
      "source": [
        "#Returning data size and label\n",
        "X, y = extract_data(roi='M1L')\n",
        "print(f\"Data size: {X.shape}\")\n",
        "print(f\"Label size: {y.shape}\")"
      ],
      "metadata": {
        "colab": {
          "base_uri": "https://localhost:8080/"
        },
        "id": "7E9y_wu7tsiY",
        "outputId": "303b1e37-eac8-4833-cbbe-34bb035b66f7"
      },
      "execution_count": null,
      "outputs": [
        {
          "output_type": "stream",
          "name": "stdout",
          "text": [
            "Data size: (60, 569)\n",
            "Label size: (60, 1)\n"
          ]
        }
      ]
    },
    {
      "cell_type": "code",
      "source": [
        "#Returning y values as integers\n",
        "y"
      ],
      "metadata": {
        "id": "xeC98cqcv579"
      },
      "execution_count": null,
      "outputs": []
    },
    {
      "cell_type": "markdown",
      "source": [
        "**ML Models**"
      ],
      "metadata": {
        "id": "W1kETa1zBiCr"
      }
    },
    {
      "cell_type": "code",
      "source": [
        "from sklearn.linear_model import LogisticRegression\n",
        "from sklearn.neighbors import KNeighborsClassifier\n",
        "from sklearn.svm import SVC\n",
        "from sklearn.ensemble import RandomForestClassifier\n",
        "from sklearn.pipeline import make_pipeline\n",
        "from sklearn.preprocessing import StandardScaler\n",
        "from sklearn.model_selection import train_test_split\n",
        "from sklearn.metrics import accuracy_score\n",
        "from sklearn.model_selection import ShuffleSplit"
      ],
      "metadata": {
        "id": "mkv0akztBxnj"
      },
      "execution_count": null,
      "outputs": []
    },
    {
      "cell_type": "markdown",
      "source": [
        "**Logistic Regression**"
      ],
      "metadata": {
        "id": "UPpEr6nkBnh2"
      }
    },
    {
      "cell_type": "code",
      "source": [
        "#Creating a logistic regression model with L2 regularization (distributes correlated features evenly among coefficients preventing any one from dominating model's predictions)\n",
        "X_train, X_test, y_train, y_test = train_test_split(X, y, test_size=0.25, random_state=42)\n",
        "pipe = make_pipeline(StandardScaler(), LogisticRegression(penalty='l2'))\n",
        "\n",
        "pipe.fit(X_train, y_train)  # apply scaling on training data\n",
        "\n",
        "pipe.score(X_test, y_test)  # apply scaling on testing data, without leaking training data."
      ],
      "metadata": {
        "id": "hh3XR5MTxoHR",
        "colab": {
          "base_uri": "https://localhost:8080/"
        },
        "outputId": "e8ec5f60-c4b7-4370-ba40-ef146fbb6c1b"
      },
      "execution_count": null,
      "outputs": [
        {
          "output_type": "stream",
          "name": "stderr",
          "text": [
            "/usr/local/lib/python3.10/dist-packages/sklearn/utils/validation.py:1143: DataConversionWarning: A column-vector y was passed when a 1d array was expected. Please change the shape of y to (n_samples, ), for example using ravel().\n",
            "  y = column_or_1d(y, warn=True)\n"
          ]
        },
        {
          "output_type": "execute_result",
          "data": {
            "text/plain": [
              "0.8"
            ]
          },
          "metadata": {},
          "execution_count": 13
        }
      ]
    },
    {
      "cell_type": "markdown",
      "source": [
        "**Logistic regression - CV**"
      ],
      "metadata": {
        "id": "wN9LLsneLRq_"
      }
    },
    {
      "cell_type": "code",
      "source": [
        "pipe = make_pipeline(StandardScaler(), LogisticRegression(penalty='l2'))\n",
        "cv = ShuffleSplit(n_splits=5, test_size=0.25, random_state=0)\n",
        "scores = cross_val_score(pipe, X, y, cv=cv).mean()\n",
        "scores"
      ],
      "metadata": {
        "id": "jiM6yqxILWVs"
      },
      "execution_count": null,
      "outputs": []
    },
    {
      "cell_type": "code",
      "source": [
        "roi_list = ['SMAR','SMAL','M1R','M1L','CBR','CBL']\n",
        "accuracy = pd.DataFrame(index=roi_list, columns=['accuracy'])\n",
        "for roi in roi_list:\n",
        "  X, y = extract_data(roi)\n",
        "  pipe = make_pipeline(StandardScaler(), LogisticRegression(penalty='l2'))\n",
        "  X_train, X_test, y_train, y_test = train_test_split(X, y, test_size=0.25, random_state=42)\n",
        "  pipe.fit(X_train, y_train)\n",
        "\n",
        "  accuracy.loc[roi, 'accuracy'] = pipe.score(X_test, y_test)\n",
        "\n",
        "accuracy.plot(kind='bar')\n",
        "plt.xlabel('Hand shape')\n",
        "plt.ylabel('Accuracy')\n",
        "plt.title('Logistic Regression')\n",
        "plt.show"
      ],
      "metadata": {
        "id": "d9ePHRrKyC31"
      },
      "execution_count": null,
      "outputs": []
    },
    {
      "cell_type": "markdown",
      "source": [
        "**Logistic regression - CV**"
      ],
      "metadata": {
        "id": "zwzqsfP-Qawp"
      }
    },
    {
      "cell_type": "code",
      "source": [
        "roi_list = ['SMAR','SMAL','M1R','M1L','CBR','CBL']\n",
        "accuracy_cv = pd.DataFrame(index=roi_list, columns=['accuracy'])\n",
        "for roi in roi_list:\n",
        "  X, y = extract_data(roi)\n",
        "  pipe = make_pipeline(StandardScaler(), LogisticRegression(penalty='l2'))\n",
        "  cv = ShuffleSplit(n_splits=5, test_size=0.25, random_state=0)\n",
        "  scores = cross_val_score(pipe, X, y, cv=cv).mean()\n",
        "  scores\n",
        "\n",
        "\n",
        "  accuracy_cv.loc[roi, 'accuracy'] = scores\n",
        "\n",
        "accuracy.plot(kind='bar')\n",
        "plt.xlabel('Hand shape')\n",
        "plt.ylabel('Accuracy')\n",
        "plt.title('Logistic Regression')\n",
        "plt.show"
      ],
      "metadata": {
        "id": "2gDIYgC5QieB"
      },
      "execution_count": null,
      "outputs": []
    },
    {
      "cell_type": "code",
      "source": [
        "print(accuracy)\n",
        "print(f'the mean accuracy for logistic regression is: {accuracy.mean()}')"
      ],
      "metadata": {
        "colab": {
          "base_uri": "https://localhost:8080/"
        },
        "id": "B4fAJR0kN3lS",
        "outputId": "49112a6f-41c0-4c33-a691-f8964f3b513f"
      },
      "execution_count": null,
      "outputs": [
        {
          "output_type": "stream",
          "name": "stdout",
          "text": [
            "      accuracy\n",
            "SMAR       0.8\n",
            "SMAL       0.8\n",
            "M1R        1.0\n",
            "M1L        0.8\n",
            "CBR   0.733333\n",
            "CBL        0.8\n",
            "the mean accuracy for logistic regression is: accuracy    0.822222\n",
            "dtype: float64\n"
          ]
        }
      ]
    },
    {
      "cell_type": "code",
      "source": [
        "print(accuracy_cv)\n",
        "print(f'the mean accuracy for logistic regression with CV is: {accuracy_cv.mean()}')"
      ],
      "metadata": {
        "colab": {
          "base_uri": "https://localhost:8080/"
        },
        "id": "55_sw9Uce6d3",
        "outputId": "8682486e-6aef-484c-858c-d3bea5f2be86"
      },
      "execution_count": null,
      "outputs": [
        {
          "output_type": "stream",
          "name": "stdout",
          "text": [
            "      accuracy\n",
            "SMAR  0.586667\n",
            "SMAL  0.586667\n",
            "M1R   0.813333\n",
            "M1L       0.72\n",
            "CBR   0.613333\n",
            "CBL   0.573333\n",
            "the mean accuracy for logistic regression with CV is: accuracy    0.648889\n",
            "dtype: float64\n"
          ]
        }
      ]
    },
    {
      "cell_type": "markdown",
      "source": [
        "\n",
        "\n",
        "\n",
        "---\n",
        "\n",
        "\n",
        "*   SMAR= Supplementary Motor Area Rt side\n",
        "*   SMAL= Supplementary Motor Area Lt side\n",
        "*   M1R=Primary Motor Cortex Rt side\n",
        "*   M1L=Primary Motor Cortex Lt side\n",
        "*   CBR=Cerebellum Rt side\n",
        "*   CBL=Cerebellum Lt side\n",
        "\n",
        "\n",
        "\n",
        "---\n",
        "\n"
      ],
      "metadata": {
        "id": "ZKoDhbJU0b7o"
      }
    },
    {
      "cell_type": "markdown",
      "source": [
        "**KNN Classifier**"
      ],
      "metadata": {
        "id": "ZTn0-HKECSzn"
      }
    },
    {
      "cell_type": "code",
      "source": [
        "roi_list = ['SMAR','SMAL','M1R','M1L','CBR','CBL']\n",
        "accuracy = pd.DataFrame(index=roi_list, columns=['accuracy'])\n",
        "for roi in roi_list:\n",
        "  X, y = extract_data(roi)\n",
        "  pipe = make_pipeline(StandardScaler(), KNeighborsClassifier(n_neighbors=7))\n",
        "  X_train, X_test, y_train, y_test = train_test_split(X, y, test_size=0.25, random_state=42)\n",
        "  pipe.fit(X_train, y_train)\n",
        "\n",
        "  accuracy.loc[roi, 'accuracy'] = pipe.score(X_test, y_test)\n",
        "\n",
        "accuracy.plot(kind='bar')\n",
        "plt.xlabel('Hand shape')\n",
        "plt.ylabel('Accuracy')\n",
        "plt.title('KNN Classifier')\n",
        "plt.show"
      ],
      "metadata": {
        "id": "Lin2ZowfCifj"
      },
      "execution_count": null,
      "outputs": []
    },
    {
      "cell_type": "markdown",
      "source": [
        "**KNN - CV**"
      ],
      "metadata": {
        "id": "cWKu2Ar8ulxb"
      }
    },
    {
      "cell_type": "code",
      "source": [
        "roi_list = ['SMAR','SMAL','M1R','M1L','CBR','CBL']\n",
        "accuracy_cv = pd.DataFrame(index=roi_list, columns=['accuracy'])\n",
        "for roi in roi_list:\n",
        "  X, y = extract_data(roi)\n",
        "  pipe = make_pipeline(StandardScaler(), KNeighborsClassifier(n_neighbors=7))\n",
        "  cv = ShuffleSplit(n_splits=5, test_size=0.25, random_state=0)\n",
        "  scores = cross_val_score(pipe, X, y, cv=cv).mean()\n",
        "  scores\n",
        "\n",
        "\n",
        "  accuracy_cv.loc[roi, 'accuracy'] = scores\n",
        "\n",
        "accuracy.plot(kind='bar')\n",
        "plt.xlabel('Hand shape')\n",
        "plt.ylabel('Accuracy')\n",
        "plt.title('Logistic Regression')\n",
        "plt.show"
      ],
      "metadata": {
        "id": "PuZn9zZNuk_K"
      },
      "execution_count": null,
      "outputs": []
    },
    {
      "cell_type": "code",
      "source": [
        "print(accuracy)\n",
        "print(f'the mean accuracy for KNN is: {accuracy.mean()}')"
      ],
      "metadata": {
        "colab": {
          "base_uri": "https://localhost:8080/"
        },
        "id": "KFQ9gYPEPb5L",
        "outputId": "615fca4a-5fc4-4b46-85f0-79adebc90bb4"
      },
      "execution_count": null,
      "outputs": [
        {
          "output_type": "stream",
          "name": "stdout",
          "text": [
            "     accuracy\n",
            "SMAR      0.4\n",
            "SMAL      0.4\n",
            "M1R       0.8\n",
            "M1L       0.6\n",
            "CBR       0.6\n",
            "CBL       0.6\n",
            "the mean accuracy for KNN is: accuracy    0.566667\n",
            "dtype: float64\n"
          ]
        }
      ]
    },
    {
      "cell_type": "code",
      "source": [
        "print(accuracy_cv)\n",
        "print(f'the mean accuracy for KNN classifier with CV is: {accuracy_cv.mean()}')"
      ],
      "metadata": {
        "id": "EF-jECe6utWC"
      },
      "execution_count": null,
      "outputs": []
    },
    {
      "cell_type": "markdown",
      "source": [
        "**Support Vector Classification**"
      ],
      "metadata": {
        "id": "ZWNoyoY-CiRh"
      }
    },
    {
      "cell_type": "code",
      "source": [
        "roi_list = ['SMAR','SMAL','M1R','M1L','CBR','CBL']\n",
        "accuracy = pd.DataFrame(index=roi_list, columns=['accuracy'])\n",
        "for roi in roi_list:\n",
        "  X, y = extract_data(roi)\n",
        "  pipe = make_pipeline(StandardScaler(), SVC(C=2,kernel='linear'))\n",
        "  X_train, X_test, y_train, y_test = train_test_split(X, y, test_size=0.25, random_state=42)\n",
        "  pipe.fit(X_train, y_train)\n",
        "\n",
        "  accuracy.loc[roi, 'accuracy'] = pipe.score(X_test, y_test)\n",
        "\n",
        "accuracy.plot(kind='bar')\n",
        "plt.xlabel('Hand shape')\n",
        "plt.ylabel('Accuracy')\n",
        "plt.title('SVM Classifier')\n",
        "plt.show"
      ],
      "metadata": {
        "id": "ctopXH6VC48X"
      },
      "execution_count": null,
      "outputs": []
    },
    {
      "cell_type": "markdown",
      "source": [
        "**Support Vector Classification - CV**"
      ],
      "metadata": {
        "id": "sD5k5zN8w00u"
      }
    },
    {
      "cell_type": "code",
      "source": [
        "roi_list = ['SMAR','SMAL','M1R','M1L','CBR','CBL']\n",
        "accuracy_cv = pd.DataFrame(index=roi_list, columns=['accuracy'])\n",
        "for roi in roi_list:\n",
        "  X, y = extract_data(roi)\n",
        "  pipe = make_pipeline(StandardScaler(),SVC(C=2,kernel='linear'))\n",
        "  cv = ShuffleSplit(n_splits=5, test_size=0.25, random_state=0)\n",
        "  scores = cross_val_score(pipe, X, y, cv=cv).mean()\n",
        "  scores\n",
        "\n",
        "\n",
        "  accuracy_cv.loc[roi, 'accuracy'] = scores\n",
        "\n",
        "accuracy.plot(kind='bar')\n",
        "plt.xlabel('Hand shape')\n",
        "plt.ylabel('Accuracy')\n",
        "plt.title('Logistic Regression')\n",
        "plt.show"
      ],
      "metadata": {
        "id": "3zDdMRPsvMnq"
      },
      "execution_count": null,
      "outputs": []
    },
    {
      "cell_type": "code",
      "source": [
        "print(accuracy)\n",
        "print(f'the mean accuracy for SVM is: {accuracy.mean()}')"
      ],
      "metadata": {
        "colab": {
          "base_uri": "https://localhost:8080/"
        },
        "id": "v3DltPrLPmPm",
        "outputId": "821e30c4-9f1d-458e-cc93-999d2566f3c6"
      },
      "execution_count": null,
      "outputs": [
        {
          "output_type": "stream",
          "name": "stdout",
          "text": [
            "      accuracy\n",
            "SMAR  0.733333\n",
            "SMAL  0.733333\n",
            "M1R        1.0\n",
            "M1L        0.8\n",
            "CBR        0.8\n",
            "CBL   0.733333\n",
            "the mean accuracy for SVM is: accuracy    0.8\n",
            "dtype: float64\n"
          ]
        }
      ]
    },
    {
      "cell_type": "code",
      "source": [
        "print(accuracy_cv)\n",
        "print(f'the mean accuracy for SVM with CV is: {accuracy_cv.mean()}')"
      ],
      "metadata": {
        "colab": {
          "base_uri": "https://localhost:8080/"
        },
        "id": "zZGNu8ZcvFYy",
        "outputId": "f8fdf852-66fa-4905-b389-16e49b2dd764"
      },
      "execution_count": null,
      "outputs": [
        {
          "output_type": "stream",
          "name": "stdout",
          "text": [
            "      accuracy\n",
            "SMAR  0.546667\n",
            "SMAL  0.546667\n",
            "M1R   0.826667\n",
            "M1L   0.666667\n",
            "CBR   0.586667\n",
            "CBL   0.573333\n",
            "the mean accuracy for SVM with CV is: accuracy    0.624444\n",
            "dtype: float64\n"
          ]
        }
      ]
    },
    {
      "cell_type": "markdown",
      "source": [
        "**Random Forest Classifier**"
      ],
      "metadata": {
        "id": "0tYICzu8DNue"
      }
    },
    {
      "cell_type": "code",
      "source": [
        "roi_list = ['SMAR','SMAL','M1R','M1L','CBR','CBL']\n",
        "accuracy = pd.DataFrame(index=roi_list, columns=['accuracy'])\n",
        "for roi in roi_list:\n",
        "  X, y = extract_data(roi)\n",
        "  pipe = make_pipeline(StandardScaler(), RandomForestClassifier())\n",
        "  X_train, X_test, y_train, y_test = train_test_split(X, y, test_size=0.25, random_state=42)\n",
        "  pipe.fit(X_train, y_train)\n",
        "\n",
        "  accuracy.loc[roi, 'accuracy'] = pipe.score(X_test, y_test)\n",
        "\n",
        "accuracy.plot(kind='bar')\n",
        "plt.xlabel('Hand shape')\n",
        "plt.ylabel('Accuracy')\n",
        "plt.title('Random Forest Classifier')\n",
        "plt.show"
      ],
      "metadata": {
        "id": "GLD_VbZgDNEm"
      },
      "execution_count": null,
      "outputs": []
    },
    {
      "cell_type": "markdown",
      "source": [
        "**Random Forest Classifier - CV**"
      ],
      "metadata": {
        "id": "qDsxE85Mvnt8"
      }
    },
    {
      "cell_type": "code",
      "source": [
        "roi_list = ['SMAR','SMAL','M1R','M1L','CBR','CBL']\n",
        "accuracy_cv = pd.DataFrame(index=roi_list, columns=['accuracy'])\n",
        "for roi in roi_list:\n",
        "  X, y = extract_data(roi)\n",
        "  pipe = make_pipeline(StandardScaler(),RandomForestClassifier())\n",
        "  cv = ShuffleSplit(n_splits=5, test_size=0.25, random_state=0)\n",
        "  scores = cross_val_score(pipe, X, y, cv=cv).mean()\n",
        "  scores\n",
        "\n",
        "\n",
        "  accuracy_cv.loc[roi, 'accuracy'] = scores\n",
        "\n",
        "accuracy.plot(kind='bar')\n",
        "plt.xlabel('Hand shape')\n",
        "plt.ylabel('Accuracy')\n",
        "plt.title('Logistic Regression')\n",
        "plt.show"
      ],
      "metadata": {
        "id": "xoV_MJ42vd1Y"
      },
      "execution_count": null,
      "outputs": []
    },
    {
      "cell_type": "code",
      "source": [
        "print(accuracy)\n",
        "print(f'the mean accuracy for random forest is: {accuracy.mean()}')"
      ],
      "metadata": {
        "colab": {
          "base_uri": "https://localhost:8080/"
        },
        "id": "8Fz6Eb-XPu4t",
        "outputId": "234ec655-c78f-48e4-b203-63fa909b0467"
      },
      "execution_count": null,
      "outputs": [
        {
          "output_type": "stream",
          "name": "stdout",
          "text": [
            "      accuracy\n",
            "SMAR  0.266667\n",
            "SMAL  0.266667\n",
            "M1R   0.733333\n",
            "M1L        0.4\n",
            "CBR   0.333333\n",
            "CBL   0.533333\n",
            "the mean accuracy for random forest is: accuracy    0.422222\n",
            "dtype: float64\n"
          ]
        }
      ]
    },
    {
      "cell_type": "code",
      "source": [
        "print(accuracy_cv)\n",
        "print(f'the mean accuracy for random forest with CV is: {accuracy_cv.mean()}')"
      ],
      "metadata": {
        "colab": {
          "base_uri": "https://localhost:8080/"
        },
        "id": "Zb29a7w1viZO",
        "outputId": "e441bcc2-59a9-424b-ae2d-b9f9fc3d5f7b"
      },
      "execution_count": null,
      "outputs": [
        {
          "output_type": "stream",
          "name": "stdout",
          "text": [
            "      accuracy\n",
            "SMAR  0.546667\n",
            "SMAL      0.44\n",
            "M1R        0.8\n",
            "M1L   0.453333\n",
            "CBR   0.466667\n",
            "CBL   0.346667\n",
            "the mean accuracy for random forest with CV is: accuracy    0.508889\n",
            "dtype: float64\n"
          ]
        }
      ]
    },
    {
      "cell_type": "markdown",
      "source": [
        "**END 😊**"
      ],
      "metadata": {
        "id": "GaGBs4I1DEF-"
      }
    }
  ]
}